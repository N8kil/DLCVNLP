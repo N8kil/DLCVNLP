{
 "cells": [
  {
   "cell_type": "code",
   "execution_count": 105,
   "metadata": {},
   "outputs": [],
   "source": [
    "import pandas as pd\n",
    "import os\n",
    "import numpy as np\n",
    "import matplotlib.pyplot as plt\n",
    "import tensorflow as tf\n",
    "import seaborn as sns"
   ]
  },
  {
   "cell_type": "code",
   "execution_count": 106,
   "metadata": {},
   "outputs": [],
   "source": [
    "os.getcwd()\n",
    "os.chdir(r'C:\\Users\\Nikhil Raj\\Desktop\\nikhu\\csv files')"
   ]
  },
  {
   "cell_type": "code",
   "execution_count": 107,
   "metadata": {},
   "outputs": [],
   "source": [
    "# dataset=https://archive.ics.uci.edu/ml/machine-learning-databases/00477/"
   ]
  },
  {
   "cell_type": "code",
   "execution_count": 108,
   "metadata": {},
   "outputs": [],
   "source": [
    "df=pd.read_excel('Real estate.xlsx')\n",
    "df.set_index('No',inplace=True)"
   ]
  },
  {
   "cell_type": "code",
   "execution_count": 109,
   "metadata": {},
   "outputs": [
    {
     "data": {
      "text/html": [
       "<div>\n",
       "<style scoped>\n",
       "    .dataframe tbody tr th:only-of-type {\n",
       "        vertical-align: middle;\n",
       "    }\n",
       "\n",
       "    .dataframe tbody tr th {\n",
       "        vertical-align: top;\n",
       "    }\n",
       "\n",
       "    .dataframe thead th {\n",
       "        text-align: right;\n",
       "    }\n",
       "</style>\n",
       "<table border=\"1\" class=\"dataframe\">\n",
       "  <thead>\n",
       "    <tr style=\"text-align: right;\">\n",
       "      <th></th>\n",
       "      <th>X1 transaction date</th>\n",
       "      <th>X2 house age</th>\n",
       "      <th>X3 distance to the nearest MRT station</th>\n",
       "      <th>X4 number of convenience stores</th>\n",
       "      <th>X5 latitude</th>\n",
       "      <th>X6 longitude</th>\n",
       "      <th>Y house price of unit area</th>\n",
       "    </tr>\n",
       "    <tr>\n",
       "      <th>No</th>\n",
       "      <th></th>\n",
       "      <th></th>\n",
       "      <th></th>\n",
       "      <th></th>\n",
       "      <th></th>\n",
       "      <th></th>\n",
       "      <th></th>\n",
       "    </tr>\n",
       "  </thead>\n",
       "  <tbody>\n",
       "    <tr>\n",
       "      <th>1</th>\n",
       "      <td>2012.916667</td>\n",
       "      <td>32.0</td>\n",
       "      <td>84.87882</td>\n",
       "      <td>10</td>\n",
       "      <td>24.98298</td>\n",
       "      <td>121.54024</td>\n",
       "      <td>37.9</td>\n",
       "    </tr>\n",
       "    <tr>\n",
       "      <th>2</th>\n",
       "      <td>2012.916667</td>\n",
       "      <td>19.5</td>\n",
       "      <td>306.59470</td>\n",
       "      <td>9</td>\n",
       "      <td>24.98034</td>\n",
       "      <td>121.53951</td>\n",
       "      <td>42.2</td>\n",
       "    </tr>\n",
       "    <tr>\n",
       "      <th>3</th>\n",
       "      <td>2013.583333</td>\n",
       "      <td>13.3</td>\n",
       "      <td>561.98450</td>\n",
       "      <td>5</td>\n",
       "      <td>24.98746</td>\n",
       "      <td>121.54391</td>\n",
       "      <td>47.3</td>\n",
       "    </tr>\n",
       "    <tr>\n",
       "      <th>4</th>\n",
       "      <td>2013.500000</td>\n",
       "      <td>13.3</td>\n",
       "      <td>561.98450</td>\n",
       "      <td>5</td>\n",
       "      <td>24.98746</td>\n",
       "      <td>121.54391</td>\n",
       "      <td>54.8</td>\n",
       "    </tr>\n",
       "    <tr>\n",
       "      <th>5</th>\n",
       "      <td>2012.833333</td>\n",
       "      <td>5.0</td>\n",
       "      <td>390.56840</td>\n",
       "      <td>5</td>\n",
       "      <td>24.97937</td>\n",
       "      <td>121.54245</td>\n",
       "      <td>43.1</td>\n",
       "    </tr>\n",
       "  </tbody>\n",
       "</table>\n",
       "</div>"
      ],
      "text/plain": [
       "    X1 transaction date  X2 house age  X3 distance to the nearest MRT station  \\\n",
       "No                                                                              \n",
       "1           2012.916667          32.0                                84.87882   \n",
       "2           2012.916667          19.5                               306.59470   \n",
       "3           2013.583333          13.3                               561.98450   \n",
       "4           2013.500000          13.3                               561.98450   \n",
       "5           2012.833333           5.0                               390.56840   \n",
       "\n",
       "    X4 number of convenience stores  X5 latitude  X6 longitude  \\\n",
       "No                                                               \n",
       "1                                10     24.98298     121.54024   \n",
       "2                                 9     24.98034     121.53951   \n",
       "3                                 5     24.98746     121.54391   \n",
       "4                                 5     24.98746     121.54391   \n",
       "5                                 5     24.97937     121.54245   \n",
       "\n",
       "    Y house price of unit area  \n",
       "No                              \n",
       "1                         37.9  \n",
       "2                         42.2  \n",
       "3                         47.3  \n",
       "4                         54.8  \n",
       "5                         43.1  "
      ]
     },
     "execution_count": 109,
     "metadata": {},
     "output_type": "execute_result"
    }
   ],
   "source": [
    "df.head()"
   ]
  },
  {
   "cell_type": "code",
   "execution_count": 110,
   "metadata": {},
   "outputs": [
    {
     "data": {
      "text/plain": [
       "X1 transaction date                       0\n",
       "X2 house age                              0\n",
       "X3 distance to the nearest MRT station    0\n",
       "X4 number of convenience stores           0\n",
       "X5 latitude                               0\n",
       "X6 longitude                              0\n",
       "Y house price of unit area                0\n",
       "dtype: int64"
      ]
     },
     "execution_count": 110,
     "metadata": {},
     "output_type": "execute_result"
    }
   ],
   "source": [
    "df.isna().sum()"
   ]
  },
  {
   "cell_type": "code",
   "execution_count": 111,
   "metadata": {},
   "outputs": [
    {
     "data": {
      "text/html": [
       "<div>\n",
       "<style scoped>\n",
       "    .dataframe tbody tr th:only-of-type {\n",
       "        vertical-align: middle;\n",
       "    }\n",
       "\n",
       "    .dataframe tbody tr th {\n",
       "        vertical-align: top;\n",
       "    }\n",
       "\n",
       "    .dataframe thead th {\n",
       "        text-align: right;\n",
       "    }\n",
       "</style>\n",
       "<table border=\"1\" class=\"dataframe\">\n",
       "  <thead>\n",
       "    <tr style=\"text-align: right;\">\n",
       "      <th></th>\n",
       "      <th>X1 transaction date</th>\n",
       "      <th>X2 house age</th>\n",
       "      <th>X3 distance to the nearest MRT station</th>\n",
       "      <th>X4 number of convenience stores</th>\n",
       "      <th>X5 latitude</th>\n",
       "      <th>X6 longitude</th>\n",
       "      <th>Y house price of unit area</th>\n",
       "    </tr>\n",
       "  </thead>\n",
       "  <tbody>\n",
       "    <tr>\n",
       "      <th>count</th>\n",
       "      <td>414.000000</td>\n",
       "      <td>414.000000</td>\n",
       "      <td>414.000000</td>\n",
       "      <td>414.000000</td>\n",
       "      <td>414.000000</td>\n",
       "      <td>414.000000</td>\n",
       "      <td>414.000000</td>\n",
       "    </tr>\n",
       "    <tr>\n",
       "      <th>mean</th>\n",
       "      <td>2013.148953</td>\n",
       "      <td>17.712560</td>\n",
       "      <td>1083.885689</td>\n",
       "      <td>4.094203</td>\n",
       "      <td>24.969030</td>\n",
       "      <td>121.533361</td>\n",
       "      <td>37.980193</td>\n",
       "    </tr>\n",
       "    <tr>\n",
       "      <th>std</th>\n",
       "      <td>0.281995</td>\n",
       "      <td>11.392485</td>\n",
       "      <td>1262.109595</td>\n",
       "      <td>2.945562</td>\n",
       "      <td>0.012410</td>\n",
       "      <td>0.015347</td>\n",
       "      <td>13.606488</td>\n",
       "    </tr>\n",
       "    <tr>\n",
       "      <th>min</th>\n",
       "      <td>2012.666667</td>\n",
       "      <td>0.000000</td>\n",
       "      <td>23.382840</td>\n",
       "      <td>0.000000</td>\n",
       "      <td>24.932070</td>\n",
       "      <td>121.473530</td>\n",
       "      <td>7.600000</td>\n",
       "    </tr>\n",
       "    <tr>\n",
       "      <th>25%</th>\n",
       "      <td>2012.916667</td>\n",
       "      <td>9.025000</td>\n",
       "      <td>289.324800</td>\n",
       "      <td>1.000000</td>\n",
       "      <td>24.963000</td>\n",
       "      <td>121.528085</td>\n",
       "      <td>27.700000</td>\n",
       "    </tr>\n",
       "    <tr>\n",
       "      <th>50%</th>\n",
       "      <td>2013.166667</td>\n",
       "      <td>16.100000</td>\n",
       "      <td>492.231300</td>\n",
       "      <td>4.000000</td>\n",
       "      <td>24.971100</td>\n",
       "      <td>121.538630</td>\n",
       "      <td>38.450000</td>\n",
       "    </tr>\n",
       "    <tr>\n",
       "      <th>75%</th>\n",
       "      <td>2013.416667</td>\n",
       "      <td>28.150000</td>\n",
       "      <td>1454.279000</td>\n",
       "      <td>6.000000</td>\n",
       "      <td>24.977455</td>\n",
       "      <td>121.543305</td>\n",
       "      <td>46.600000</td>\n",
       "    </tr>\n",
       "    <tr>\n",
       "      <th>max</th>\n",
       "      <td>2013.583333</td>\n",
       "      <td>43.800000</td>\n",
       "      <td>6488.021000</td>\n",
       "      <td>10.000000</td>\n",
       "      <td>25.014590</td>\n",
       "      <td>121.566270</td>\n",
       "      <td>117.500000</td>\n",
       "    </tr>\n",
       "  </tbody>\n",
       "</table>\n",
       "</div>"
      ],
      "text/plain": [
       "       X1 transaction date  X2 house age  \\\n",
       "count           414.000000    414.000000   \n",
       "mean           2013.148953     17.712560   \n",
       "std               0.281995     11.392485   \n",
       "min            2012.666667      0.000000   \n",
       "25%            2012.916667      9.025000   \n",
       "50%            2013.166667     16.100000   \n",
       "75%            2013.416667     28.150000   \n",
       "max            2013.583333     43.800000   \n",
       "\n",
       "       X3 distance to the nearest MRT station  \\\n",
       "count                              414.000000   \n",
       "mean                              1083.885689   \n",
       "std                               1262.109595   \n",
       "min                                 23.382840   \n",
       "25%                                289.324800   \n",
       "50%                                492.231300   \n",
       "75%                               1454.279000   \n",
       "max                               6488.021000   \n",
       "\n",
       "       X4 number of convenience stores  X5 latitude  X6 longitude  \\\n",
       "count                       414.000000   414.000000    414.000000   \n",
       "mean                          4.094203    24.969030    121.533361   \n",
       "std                           2.945562     0.012410      0.015347   \n",
       "min                           0.000000    24.932070    121.473530   \n",
       "25%                           1.000000    24.963000    121.528085   \n",
       "50%                           4.000000    24.971100    121.538630   \n",
       "75%                           6.000000    24.977455    121.543305   \n",
       "max                          10.000000    25.014590    121.566270   \n",
       "\n",
       "       Y house price of unit area  \n",
       "count                  414.000000  \n",
       "mean                    37.980193  \n",
       "std                     13.606488  \n",
       "min                      7.600000  \n",
       "25%                     27.700000  \n",
       "50%                     38.450000  \n",
       "75%                     46.600000  \n",
       "max                    117.500000  "
      ]
     },
     "execution_count": 111,
     "metadata": {},
     "output_type": "execute_result"
    }
   ],
   "source": [
    "df.describe()"
   ]
  },
  {
   "cell_type": "code",
   "execution_count": 112,
   "metadata": {},
   "outputs": [],
   "source": [
    "x=df.drop('Y house price of unit area',axis=1)\n",
    "y=df['Y house price of unit area']"
   ]
  },
  {
   "cell_type": "code",
   "execution_count": 113,
   "metadata": {},
   "outputs": [],
   "source": [
    "from sklearn.model_selection import train_test_split"
   ]
  },
  {
   "cell_type": "code",
   "execution_count": 114,
   "metadata": {},
   "outputs": [],
   "source": [
    "x_train_f,x_test,y_train_f,y_test=train_test_split(x,y)\n",
    "x_train,x_valid,y_train,y_valid=train_test_split(x_train_f,y_train_f)"
   ]
  },
  {
   "cell_type": "code",
   "execution_count": 115,
   "metadata": {},
   "outputs": [],
   "source": [
    "from sklearn.preprocessing import StandardScaler\n",
    "scaler = StandardScaler()\n",
    "x_train = scaler.fit_transform(x_train)\n",
    "x_valid = scaler.transform(x_valid)\n",
    "x_test = scaler.transform(x_test)"
   ]
  },
  {
   "cell_type": "code",
   "execution_count": 116,
   "metadata": {},
   "outputs": [
    {
     "data": {
      "text/plain": [
       "(232, 6)"
      ]
     },
     "execution_count": 116,
     "metadata": {},
     "output_type": "execute_result"
    }
   ],
   "source": [
    "x_train.shape"
   ]
  },
  {
   "cell_type": "code",
   "execution_count": 117,
   "metadata": {},
   "outputs": [
    {
     "data": {
      "text/plain": [
       "(6,)"
      ]
     },
     "execution_count": 117,
     "metadata": {},
     "output_type": "execute_result"
    }
   ],
   "source": [
    "input_shape=x_train.shape[1:]\n",
    "input_shape"
   ]
  },
  {
   "cell_type": "code",
   "execution_count": 118,
   "metadata": {},
   "outputs": [],
   "source": [
    "import tensorflow as tf\n",
    "model=tf.keras.models.Sequential()\n",
    "model.add(tf.keras.layers.Dense(300,activation='relu',input_shape=x_train.shape[1:]))\n",
    "model.add(tf.keras.layers.Dense(200,activation='relu'))\n",
    "model.add(tf.keras.layers.Dense(100,activation='relu'))\n",
    "model.add(tf.keras.layers.Dense(50,activation='relu'))\n",
    "model.add(tf.keras.layers.Dense(1))"
   ]
  },
  {
   "cell_type": "code",
   "execution_count": 119,
   "metadata": {
    "scrolled": true
   },
   "outputs": [
    {
     "name": "stdout",
     "output_type": "stream",
     "text": [
      "Train on 232 samples, validate on 78 samples\n",
      "Epoch 1/50\n",
      "232/232 [==============================] - 1s 2ms/sample - loss: 84418.4510 - val_loss: 598.3123\n",
      "Epoch 2/50\n",
      "232/232 [==============================] - 0s 211us/sample - loss: 1626.1220 - val_loss: 1159.6421\n",
      "Epoch 3/50\n",
      "232/232 [==============================] - 0s 181us/sample - loss: 795.6795 - val_loss: 454.2748\n",
      "Epoch 4/50\n",
      "232/232 [==============================] - 0s 194us/sample - loss: 419.1464 - val_loss: 547.5031\n",
      "Epoch 5/50\n",
      "232/232 [==============================] - 0s 177us/sample - loss: 298.6183 - val_loss: 261.6247\n",
      "Epoch 6/50\n",
      "232/232 [==============================] - 0s 190us/sample - loss: 196.0830 - val_loss: 234.5652\n",
      "Epoch 7/50\n",
      "232/232 [==============================] - 0s 181us/sample - loss: 157.1647 - val_loss: 152.9964\n",
      "Epoch 8/50\n",
      "232/232 [==============================] - 0s 164us/sample - loss: 144.3863 - val_loss: 160.8459\n",
      "Epoch 9/50\n",
      "232/232 [==============================] - 0s 164us/sample - loss: 126.6010 - val_loss: 134.8644\n",
      "Epoch 10/50\n",
      "232/232 [==============================] - 0s 159us/sample - loss: 98.5098 - val_loss: 152.6802\n",
      "Epoch 11/50\n",
      "232/232 [==============================] - 0s 289us/sample - loss: 94.5863 - val_loss: 117.0925\n",
      "Epoch 12/50\n",
      "232/232 [==============================] - 0s 237us/sample - loss: 85.6723 - val_loss: 127.6076\n",
      "Epoch 13/50\n",
      "232/232 [==============================] - 0s 263us/sample - loss: 91.9935 - val_loss: 142.6054\n",
      "Epoch 14/50\n",
      "232/232 [==============================] - 0s 198us/sample - loss: 122.8045 - val_loss: 144.9839\n",
      "Epoch 15/50\n",
      "232/232 [==============================] - 0s 168us/sample - loss: 103.0139 - val_loss: 132.3173\n",
      "Epoch 16/50\n",
      "232/232 [==============================] - 0s 164us/sample - loss: 80.3434 - val_loss: 108.3203\n",
      "Epoch 17/50\n",
      "232/232 [==============================] - 0s 181us/sample - loss: 82.8331 - val_loss: 88.5141\n",
      "Epoch 18/50\n",
      "232/232 [==============================] - 0s 159us/sample - loss: 82.3504 - val_loss: 126.5256\n",
      "Epoch 19/50\n",
      "232/232 [==============================] - 0s 172us/sample - loss: 75.4135 - val_loss: 126.9878\n",
      "Epoch 20/50\n",
      "232/232 [==============================] - 0s 159us/sample - loss: 113.9080 - val_loss: 99.7464\n",
      "Epoch 21/50\n",
      "232/232 [==============================] - 0s 185us/sample - loss: 114.0603 - val_loss: 105.3776\n",
      "Epoch 22/50\n",
      "232/232 [==============================] - 0s 164us/sample - loss: 88.4543 - val_loss: 114.1250\n",
      "Epoch 23/50\n",
      "232/232 [==============================] - 0s 185us/sample - loss: 78.7009 - val_loss: 142.2319\n",
      "Epoch 24/50\n",
      "232/232 [==============================] - 0s 177us/sample - loss: 99.0611 - val_loss: 72.1732\n",
      "Epoch 25/50\n",
      "232/232 [==============================] - 0s 185us/sample - loss: 64.4497 - val_loss: 74.7338\n",
      "Epoch 26/50\n",
      "232/232 [==============================] - 0s 190us/sample - loss: 55.2410 - val_loss: 68.2467\n",
      "Epoch 27/50\n",
      "232/232 [==============================] - 0s 177us/sample - loss: 51.9492 - val_loss: 75.8110\n",
      "Epoch 28/50\n",
      "232/232 [==============================] - 0s 159us/sample - loss: 58.2984 - val_loss: 70.6754\n",
      "Epoch 29/50\n",
      "232/232 [==============================] - 0s 168us/sample - loss: 57.9737 - val_loss: 71.4679\n",
      "Epoch 30/50\n",
      "232/232 [==============================] - 0s 177us/sample - loss: 68.1180 - val_loss: 78.6426\n",
      "Epoch 31/50\n",
      "232/232 [==============================] - 0s 151us/sample - loss: 65.4208 - val_loss: 67.6548\n",
      "Epoch 32/50\n",
      "232/232 [==============================] - 0s 185us/sample - loss: 69.4565 - val_loss: 75.3182\n",
      "Epoch 33/50\n",
      "232/232 [==============================] - 0s 155us/sample - loss: 80.0591 - val_loss: 73.8033\n",
      "Epoch 34/50\n",
      "232/232 [==============================] - 0s 181us/sample - loss: 76.7456 - val_loss: 121.4112\n",
      "Epoch 35/50\n",
      "232/232 [==============================] - 0s 164us/sample - loss: 73.6028 - val_loss: 123.6020\n",
      "Epoch 36/50\n",
      "232/232 [==============================] - 0s 120us/sample - loss: 82.6874 - val_loss: 86.7991\n",
      "Epoch 37/50\n",
      "232/232 [==============================] - 0s 232us/sample - loss: 96.2014 - val_loss: 89.8747\n",
      "Epoch 38/50\n",
      "232/232 [==============================] - 0s 185us/sample - loss: 67.2979 - val_loss: 72.8464\n",
      "Epoch 39/50\n",
      "232/232 [==============================] - 0s 164us/sample - loss: 56.1151 - val_loss: 73.4978\n",
      "Epoch 40/50\n",
      "232/232 [==============================] - 0s 177us/sample - loss: 57.4473 - val_loss: 71.4115\n",
      "Epoch 41/50\n",
      "232/232 [==============================] - 0s 172us/sample - loss: 46.7986 - val_loss: 65.3854\n",
      "Epoch 42/50\n",
      "232/232 [==============================] - 0s 198us/sample - loss: 44.3369 - val_loss: 60.6544\n",
      "Epoch 43/50\n",
      "232/232 [==============================] - 0s 168us/sample - loss: 44.0286 - val_loss: 57.9299\n",
      "Epoch 44/50\n",
      "232/232 [==============================] - 0s 177us/sample - loss: 45.6341 - val_loss: 92.3308\n",
      "Epoch 45/50\n",
      "232/232 [==============================] - 0s 323us/sample - loss: 59.6029 - val_loss: 57.1426\n",
      "Epoch 46/50\n",
      "232/232 [==============================] - 0s 263us/sample - loss: 42.6565 - val_loss: 65.0893\n",
      "Epoch 47/50\n",
      "232/232 [==============================] - 0s 172us/sample - loss: 48.3657 - val_loss: 61.0747\n",
      "Epoch 48/50\n",
      "232/232 [==============================] - 0s 224us/sample - loss: 51.2362 - val_loss: 57.9577\n",
      "Epoch 49/50\n",
      "232/232 [==============================] - 0s 246us/sample - loss: 58.0844 - val_loss: 69.8318\n",
      "Epoch 50/50\n",
      "232/232 [==============================] - 0s 228us/sample - loss: 46.2306 - val_loss: 87.4555\n"
     ]
    }
   ],
   "source": [
    "model.compile(loss='mse',optimizer=tf.keras.optimizers.Adam(learning_rate=0.1))\n",
    "history=model.fit(x_train,y_train,epochs=50,validation_data=(x_valid,y_valid))"
   ]
  },
  {
   "cell_type": "code",
   "execution_count": 120,
   "metadata": {
    "scrolled": true
   },
   "outputs": [
    {
     "data": {
      "image/png": "[encoded data removed]",
      "text/plain": [
       "<Figure size 576x360 with 1 Axes>"
      ]
     },
     "metadata": {
      "needs_background": "light"
     },
     "output_type": "display_data"
    }
   ],
   "source": [
    "import matplotlib.pyplot as plt\n",
    "pd.DataFrame(history.history).plot(figsize=(8, 5))\n",
    "plt.grid(True)"
   ]
  },
  {
   "cell_type": "code",
   "execution_count": 121,
   "metadata": {
    "scrolled": false
   },
   "outputs": [
    {
     "name": "stdout",
     "output_type": "stream",
     "text": [
      "104/104 [==============================] - 0s 85us/sample - loss: 171.2454\n"
     ]
    }
   ],
   "source": [
    "mse_test = model.evaluate(x_test, y_test)"
   ]
  },
  {
   "cell_type": "code",
   "execution_count": null,
   "metadata": {},
   "outputs": [],
   "source": []
  }
 ],
 "metadata": {
  "kernelspec": {
   "display_name": "Python 3",
   "language": "python",
   "name": "python3"
  },
  "language_info": {
   "codemirror_mode": {
    "name": "ipython",
    "version": 3
   },
   "file_extension": ".py",
   "mimetype": "text/x-python",
   "name": "python",
   "nbconvert_exporter": "python",
   "pygments_lexer": "ipython3",
   "version": "3.7.9"
  }
 },
 "nbformat": 4,
 "nbformat_minor": 4
}
